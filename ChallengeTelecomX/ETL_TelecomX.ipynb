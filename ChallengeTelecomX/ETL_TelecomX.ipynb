{
 "cells": [
  {
   "cell_type": "markdown",
   "id": "58bb3498",
   "metadata": {},
   "source": [
    "## Preparando el entorno "
   ]
  },
  {
   "cell_type": "code",
   "execution_count": null,
   "id": "af832da9",
   "metadata": {},
   "outputs": [],
   "source": [
    "#%pip install pandas matplotlib seaborn requests plotly numpy scikit-learn"
   ]
  },
  {
   "cell_type": "markdown",
   "id": "ce9c8b27",
   "metadata": {},
   "source": [
    "## Extrayendo los datos de una api "
   ]
  },
  {
   "cell_type": "code",
   "execution_count": null,
   "id": "144ab814",
   "metadata": {},
   "outputs": [],
   "source": [
    "import pandas as pd\n",
    "import requests\n",
    "\n",
    "# URL del JSON crudo desde GitHub (versión RAW)\n",
    "url = \"https://raw.githubusercontent.com/ingridcristh/challenge2-data-science-LATAM/refs/heads/main/TelecomX_Data.json\"\n",
    "\n",
    "# Obtener datos con requests\n",
    "response = requests.get(url)\n",
    "data = response.json()  # Convertimos la respuesta en JSON\n",
    "\n",
    "# Convertir a DataFrame\n",
    "df = pd.DataFrame(data)\n",
    "\n",
    "# Mostrar las primeras filas\n",
    "df.head()"
   ]
  },
  {
   "cell_type": "markdown",
   "id": "3df722a1",
   "metadata": {},
   "source": [
    "## Conociendo el DataFrame "
   ]
  },
  {
   "cell_type": "code",
   "execution_count": null,
   "id": "c17c4dfe",
   "metadata": {},
   "outputs": [],
   "source": [
    "print(\"Dimensiones del dataset:\", df.shape)\n",
    "print(\"\\nColumnas:\\n\", df.columns)\n",
    "print(\"\\nTipos de datos:\\n\", df.dtypes)\n",
    "print(\"\\nValores únicos en Churn:\\n\", df['Churn'].value_counts())\n"
   ]
  },
  {
   "cell_type": "markdown",
   "id": "c7b94ad1",
   "metadata": {},
   "source": [
    "## Comprobando incoherencias o detalles en los datos"
   ]
  },
  {
   "cell_type": "code",
   "execution_count": null,
   "id": "3f28806d",
   "metadata": {},
   "outputs": [],
   "source": [
    "# Expandir columnas de diccionarios\n",
    "df_customer = df['customer'].apply(pd.Series)\n",
    "df_phone = df['phone'].apply(pd.Series)\n",
    "df_internet = df['internet'].apply(pd.Series)\n",
    "df_account = df['account'].apply(pd.Series)\n",
    "\n",
    "# Unir todo en un solo DataFrame limpio\n",
    "df_clean = pd.concat([df.drop(columns=['customer', 'phone', 'internet', 'account']),\n",
    "                      df_customer, df_phone, df_internet, df_account], axis=1)\n",
    "\n",
    "# Verificar el nuevo DataFrame\n",
    "print(df_clean.info())"
   ]
  },
  {
   "cell_type": "markdown",
   "id": "bde08cb7",
   "metadata": {},
   "source": [
    "## Validaciones y limpieza de datos"
   ]
  },
  {
   "cell_type": "code",
   "execution_count": null,
   "id": "6740bc7f",
   "metadata": {},
   "outputs": [],
   "source": [
    "## Identificar columnas que tienen diccionarios : \n",
    "for col in df_clean.columns:\n",
    "    if df_clean[col].apply(lambda x: isinstance(x, dict)).any():\n",
    "        print(f\"⚠️ La columna '{col}' contiene diccionarios.\")\n",
    "\n",
    "##Expandir Charges a columnas separadas \n",
    "charges_expanded = pd.json_normalize(df_clean['Charges'])\n",
    "df_clean = pd.concat([df_clean.drop(columns=['Charges']), charges_expanded], axis=1)\n",
    "\n"
   ]
  },
  {
   "cell_type": "code",
   "execution_count": null,
   "id": "28273b2a",
   "metadata": {},
   "outputs": [],
   "source": [
    "# Valores faltantes\n",
    "print(\"Valores nulos por columna:\\n\", df_clean.isnull().sum())\n",
    "\n",
    "# Duplicados (ya que no hay columnas con diccionarios, ahora sí se puede hacer sin error)\n",
    "print(\"\\nDuplicados:\", df_clean.duplicated().sum())\n",
    "\n",
    "# Tipos de datos\n",
    "print(\"\\nTipos de datos:\\n\", df_clean.dtypes)\n",
    "\n",
    "# Valores únicos por columna (para buscar inconsistencias como ' Yes', 'No ', etc.)\n",
    "for col in df_clean.columns:\n",
    "    print(f\"\\nColumna: {col}\")\n",
    "    print(df_clean[col].unique())\n"
   ]
  },
  {
   "cell_type": "code",
   "execution_count": null,
   "id": "657e364b",
   "metadata": {},
   "outputs": [],
   "source": [
    "import pandas as pd\n",
    "import numpy as np\n",
    "\n",
    "# Convertir columna 'Total' a numérica, forzando errores a NaN\n",
    "df_clean['Total'] = pd.to_numeric(df_clean['Total'], errors='coerce')\n",
    "\n",
    "# Revisar cuántos valores NaN quedaron en 'Total' después de la conversión\n",
    "print(\"Valores NaN en 'Total':\", df_clean['Total'].isnull().sum())\n",
    "\n",
    "# Limpiar columna 'Churn': reemplazar valores vacíos por NaN\n",
    "df_clean['Churn'] = df_clean['Churn'].replace('', np.nan)\n",
    "\n",
    "# Revisar cuántos valores NaN hay en 'Churn'\n",
    "print(\"Valores NaN en 'Churn':\", df_clean['Churn'].isnull().sum())\n",
    "\n",
    "# Opción: eliminar filas donde 'Churn' sea NaN\n",
    "df_clean = df_clean.dropna(subset=['Churn'])\n",
    "\n",
    "# Confirmar limpieza\n",
    "print(\"Datos después de limpieza de 'Churn':\")\n",
    "print(df_clean['Churn'].value_counts(dropna=False))\n",
    "print(\"Dimensiones después de limpieza:\", df_clean.shape)\n"
   ]
  },
  {
   "cell_type": "markdown",
   "id": "12a896cc",
   "metadata": {},
   "source": [
    "## Manejando la data , Columna de cuentas diarias "
   ]
  },
  {
   "cell_type": "code",
   "execution_count": null,
   "id": "f4311f82",
   "metadata": {},
   "outputs": [],
   "source": [
    "# Crear columna 'Cuentas_Diarias' asumiendo 30 días por mes\n",
    "df_clean['Cuentas_Diarias'] = df_clean['Monthly'] / 30\n",
    "\n",
    "# Mostrar algunas filas para verificar\n",
    "print(df_clean[['Monthly', 'Cuentas_Diarias']].head())\n"
   ]
  },
  {
   "cell_type": "markdown",
   "id": "198e051d",
   "metadata": {},
   "source": [
    "## Analisis Descriptivos de los datos"
   ]
  },
  {
   "cell_type": "code",
   "execution_count": null,
   "id": "6fff2907",
   "metadata": {},
   "outputs": [],
   "source": [
    "# Seleccionamos solo las columnas numéricas\n",
    "numericas = df_clean.select_dtypes(include=['number'])\n",
    "\n",
    "# Estadísticas descriptivas para numéricas\n",
    "estadisticas = numericas.describe().T\n",
    "\n",
    "# Calcular la mediana solo para numéricas\n",
    "medianas = numericas.median()\n",
    "\n",
    "# Añadimos la mediana\n",
    "estadisticas['median'] = medianas\n",
    "\n",
    "print(estadisticas)\n"
   ]
  },
  {
   "cell_type": "markdown",
   "id": "7fd2a60e",
   "metadata": {},
   "source": [
    "## Distribución de evasión"
   ]
  },
  {
   "cell_type": "code",
   "execution_count": null,
   "id": "2d6e1cd4",
   "metadata": {},
   "outputs": [],
   "source": [
    "import matplotlib.pyplot as plt\n",
    "import seaborn as sns\n",
    "\n",
    "# Conteo de cada categoría en la columna 'Churn'\n",
    "churn_counts = df_clean['Churn'].value_counts()\n",
    "\n",
    "# Gráfico de barras\n",
    "plt.figure(figsize=(6,4))\n",
    "sns.barplot(x=churn_counts.index, y=churn_counts.values, palette='Set2')\n",
    "plt.title('Distribución de la variable Churn')\n",
    "plt.xlabel('Churn')\n",
    "plt.ylabel('Cantidad de clientes')\n",
    "plt.show()\n",
    "\n",
    "# Gráfico de pastel\n",
    "plt.figure(figsize=(6,6))\n",
    "plt.pie(churn_counts.values, labels=churn_counts.index, autopct='%1.1f%%', colors=sns.color_palette('Set2'))\n",
    "plt.title('Proporción de clientes según Churn')\n",
    "plt.show()\n"
   ]
  },
  {
   "cell_type": "markdown",
   "id": "be98713f",
   "metadata": {},
   "source": [
    "## Explorando los datos segun variables categoricas "
   ]
  },
  {
   "cell_type": "code",
   "execution_count": null,
   "id": "d800c237",
   "metadata": {},
   "outputs": [],
   "source": [
    "import matplotlib.pyplot as plt\n",
    "import seaborn as sns\n",
    "\n",
    "# Lista de variables categóricas a analizar con churn\n",
    "categorical_vars = ['gender', 'Contract', 'PaymentMethod']\n",
    "\n",
    "# Configurar tamaño de figura para múltiples gráficos\n",
    "plt.figure(figsize=(18, 5 * len(categorical_vars)))\n",
    "\n",
    "for i, var in enumerate(categorical_vars, 1):\n",
    "    plt.subplot(len(categorical_vars), 1, i)\n",
    "    sns.countplot(data=df_clean, x=var, hue='Churn', palette='Set1')\n",
    "    plt.title(f'Distribución de Churn según {var}')\n",
    "    plt.xlabel(var)\n",
    "    plt.ylabel('Cantidad de clientes')\n",
    "    plt.legend(title='Churn')\n",
    "    plt.xticks(rotation=45)\n",
    "\n",
    "plt.tight_layout()\n",
    "plt.show()\n"
   ]
  },
  {
   "cell_type": "markdown",
   "id": "a0eb1ab1",
   "metadata": {},
   "source": [
    "## Distribución de variables numéricas entre clientes que cancelaron y los que no"
   ]
  },
  {
   "cell_type": "code",
   "execution_count": null,
   "id": "6983d94a",
   "metadata": {},
   "outputs": [],
   "source": [
    "import matplotlib.pyplot as plt\n",
    "import seaborn as sns\n",
    "\n",
    "# Convertir la columna 'Total' a numérica si no lo está\n",
    "df_clean['Total'] = pd.to_numeric(df_clean['Total'], errors='coerce')\n",
    "\n",
    "numeric_vars = ['Total', 'tenure']\n",
    "\n",
    "plt.figure(figsize=(12, 6 * len(numeric_vars)))\n",
    "\n",
    "for i, var in enumerate(numeric_vars, 1):\n",
    "    plt.subplot(len(numeric_vars), 1, i)\n",
    "    sns.boxplot(data=df_clean, x='Churn', y=var, palette='Set2')\n",
    "    plt.title(f'Distribución de {var} según Churn')\n",
    "    plt.xlabel('Churn')\n",
    "    plt.ylabel(var)\n",
    "\n",
    "plt.tight_layout()\n",
    "plt.show()\n"
   ]
  }
 ],
 "metadata": {
  "kernelspec": {
   "display_name": ".venv",
   "language": "python",
   "name": "python3"
  },
  "language_info": {
   "codemirror_mode": {
    "name": "ipython",
    "version": 3
   },
   "file_extension": ".py",
   "mimetype": "text/x-python",
   "name": "python",
   "nbconvert_exporter": "python",
   "pygments_lexer": "ipython3",
   "version": "3.13.3"
  }
 },
 "nbformat": 4,
 "nbformat_minor": 5
}
